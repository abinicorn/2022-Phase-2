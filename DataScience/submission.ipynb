{
 "cells": [
  {
   "cell_type": "markdown",
   "metadata": {},
   "source": [
    "# 2022 NZMSA Data Science Submission."
   ]
  },
  {
   "cell_type": "code",
   "execution_count": 2,
   "metadata": {},
   "outputs": [],
   "source": [
    "import pandas as pd\n",
    "import seaborn as sns\n",
    "\n",
    "import matplotlib.pyplot as plt\n",
    "\n",
    "%matplotlib inline"
   ]
  },
  {
   "cell_type": "markdown",
   "metadata": {},
   "source": [
    "# Exploratory Data Analysis."
   ]
  },
  {
   "cell_type": "code",
   "execution_count": 3,
   "metadata": {},
   "outputs": [
    {
     "data": {
      "text/html": [
       "<div>\n",
       "<style scoped>\n",
       "    .dataframe tbody tr th:only-of-type {\n",
       "        vertical-align: middle;\n",
       "    }\n",
       "\n",
       "    .dataframe tbody tr th {\n",
       "        vertical-align: top;\n",
       "    }\n",
       "\n",
       "    .dataframe thead th {\n",
       "        text-align: right;\n",
       "    }\n",
       "</style>\n",
       "<table border=\"1\" class=\"dataframe\">\n",
       "  <thead>\n",
       "    <tr style=\"text-align: right;\">\n",
       "      <th></th>\n",
       "      <th>station</th>\n",
       "      <th>valid</th>\n",
       "      <th>tmpc</th>\n",
       "      <th>dwpc</th>\n",
       "      <th>relh</th>\n",
       "      <th>sknt</th>\n",
       "      <th>gust</th>\n",
       "      <th>peak_wind_drct</th>\n",
       "    </tr>\n",
       "  </thead>\n",
       "  <tbody>\n",
       "    <tr>\n",
       "      <th>0</th>\n",
       "      <td>NZAA</td>\n",
       "      <td>2015-01-01 00:00</td>\n",
       "      <td>21.0</td>\n",
       "      <td>11.0</td>\n",
       "      <td>52.77</td>\n",
       "      <td>15.0</td>\n",
       "      <td>NaN</td>\n",
       "      <td>NaN</td>\n",
       "    </tr>\n",
       "    <tr>\n",
       "      <th>1</th>\n",
       "      <td>NZAA</td>\n",
       "      <td>2015-01-01 00:30</td>\n",
       "      <td>21.0</td>\n",
       "      <td>10.0</td>\n",
       "      <td>49.37</td>\n",
       "      <td>16.0</td>\n",
       "      <td>NaN</td>\n",
       "      <td>NaN</td>\n",
       "    </tr>\n",
       "    <tr>\n",
       "      <th>2</th>\n",
       "      <td>NZAA</td>\n",
       "      <td>2015-01-01 01:00</td>\n",
       "      <td>21.0</td>\n",
       "      <td>12.0</td>\n",
       "      <td>56.38</td>\n",
       "      <td>16.0</td>\n",
       "      <td>NaN</td>\n",
       "      <td>NaN</td>\n",
       "    </tr>\n",
       "    <tr>\n",
       "      <th>3</th>\n",
       "      <td>NZAA</td>\n",
       "      <td>2015-01-01 01:30</td>\n",
       "      <td>21.0</td>\n",
       "      <td>13.0</td>\n",
       "      <td>60.21</td>\n",
       "      <td>16.0</td>\n",
       "      <td>NaN</td>\n",
       "      <td>NaN</td>\n",
       "    </tr>\n",
       "    <tr>\n",
       "      <th>4</th>\n",
       "      <td>NZAA</td>\n",
       "      <td>2015-01-01 02:00</td>\n",
       "      <td>21.0</td>\n",
       "      <td>12.0</td>\n",
       "      <td>56.38</td>\n",
       "      <td>16.0</td>\n",
       "      <td>NaN</td>\n",
       "      <td>NaN</td>\n",
       "    </tr>\n",
       "  </tbody>\n",
       "</table>\n",
       "</div>"
      ],
      "text/plain": [
       "   station             valid  tmpc  dwpc   relh  sknt  gust  peak_wind_drct\n",
       "0     NZAA  2015-01-01 00:00  21.0  11.0  52.77  15.0   NaN             NaN\n",
       "1     NZAA  2015-01-01 00:30  21.0  10.0  49.37  16.0   NaN             NaN\n",
       "2     NZAA  2015-01-01 01:00  21.0  12.0  56.38  16.0   NaN             NaN\n",
       "3     NZAA  2015-01-01 01:30  21.0  13.0  60.21  16.0   NaN             NaN\n",
       "4     NZAA  2015-01-01 02:00  21.0  12.0  56.38  16.0   NaN             NaN"
      ]
     },
     "execution_count": 3,
     "metadata": {},
     "output_type": "execute_result"
    }
   ],
   "source": [
    "dataset = pd.read_csv(\"weather-data.csv\")\n",
    "dataset.head() # Show the first five results."
   ]
  },
  {
   "cell_type": "code",
   "execution_count": 4,
   "metadata": {},
   "outputs": [
    {
     "data": {
      "text/html": [
       "<div>\n",
       "<style scoped>\n",
       "    .dataframe tbody tr th:only-of-type {\n",
       "        vertical-align: middle;\n",
       "    }\n",
       "\n",
       "    .dataframe tbody tr th {\n",
       "        vertical-align: top;\n",
       "    }\n",
       "\n",
       "    .dataframe thead th {\n",
       "        text-align: right;\n",
       "    }\n",
       "</style>\n",
       "<table border=\"1\" class=\"dataframe\">\n",
       "  <thead>\n",
       "    <tr style=\"text-align: right;\">\n",
       "      <th></th>\n",
       "      <th>tmpc</th>\n",
       "      <th>dwpc</th>\n",
       "      <th>relh</th>\n",
       "      <th>sknt</th>\n",
       "      <th>gust</th>\n",
       "      <th>peak_wind_drct</th>\n",
       "    </tr>\n",
       "  </thead>\n",
       "  <tbody>\n",
       "    <tr>\n",
       "      <th>count</th>\n",
       "      <td>103678.000000</td>\n",
       "      <td>103678.000000</td>\n",
       "      <td>103593.000000</td>\n",
       "      <td>103704.000000</td>\n",
       "      <td>1203.000000</td>\n",
       "      <td>0.0</td>\n",
       "    </tr>\n",
       "    <tr>\n",
       "      <th>mean</th>\n",
       "      <td>15.811503</td>\n",
       "      <td>12.115772</td>\n",
       "      <td>79.782307</td>\n",
       "      <td>8.919029</td>\n",
       "      <td>30.962594</td>\n",
       "      <td>NaN</td>\n",
       "    </tr>\n",
       "    <tr>\n",
       "      <th>std</th>\n",
       "      <td>4.235197</td>\n",
       "      <td>3.738005</td>\n",
       "      <td>12.562199</td>\n",
       "      <td>5.348379</td>\n",
       "      <td>6.319510</td>\n",
       "      <td>NaN</td>\n",
       "    </tr>\n",
       "    <tr>\n",
       "      <th>min</th>\n",
       "      <td>2.000000</td>\n",
       "      <td>-2.000000</td>\n",
       "      <td>29.230000</td>\n",
       "      <td>0.000000</td>\n",
       "      <td>13.000000</td>\n",
       "      <td>NaN</td>\n",
       "    </tr>\n",
       "    <tr>\n",
       "      <th>25%</th>\n",
       "      <td>13.000000</td>\n",
       "      <td>9.000000</td>\n",
       "      <td>71.450000</td>\n",
       "      <td>5.000000</td>\n",
       "      <td>27.000000</td>\n",
       "      <td>NaN</td>\n",
       "    </tr>\n",
       "    <tr>\n",
       "      <th>50%</th>\n",
       "      <td>16.000000</td>\n",
       "      <td>12.000000</td>\n",
       "      <td>81.990000</td>\n",
       "      <td>8.000000</td>\n",
       "      <td>31.000000</td>\n",
       "      <td>NaN</td>\n",
       "    </tr>\n",
       "    <tr>\n",
       "      <th>75%</th>\n",
       "      <td>19.000000</td>\n",
       "      <td>15.000000</td>\n",
       "      <td>88.180000</td>\n",
       "      <td>12.000000</td>\n",
       "      <td>35.000000</td>\n",
       "      <td>NaN</td>\n",
       "    </tr>\n",
       "    <tr>\n",
       "      <th>max</th>\n",
       "      <td>29.000000</td>\n",
       "      <td>23.000000</td>\n",
       "      <td>100.000000</td>\n",
       "      <td>42.000000</td>\n",
       "      <td>56.000000</td>\n",
       "      <td>NaN</td>\n",
       "    </tr>\n",
       "  </tbody>\n",
       "</table>\n",
       "</div>"
      ],
      "text/plain": [
       "                tmpc           dwpc           relh           sknt  \\\n",
       "count  103678.000000  103678.000000  103593.000000  103704.000000   \n",
       "mean       15.811503      12.115772      79.782307       8.919029   \n",
       "std         4.235197       3.738005      12.562199       5.348379   \n",
       "min         2.000000      -2.000000      29.230000       0.000000   \n",
       "25%        13.000000       9.000000      71.450000       5.000000   \n",
       "50%        16.000000      12.000000      81.990000       8.000000   \n",
       "75%        19.000000      15.000000      88.180000      12.000000   \n",
       "max        29.000000      23.000000     100.000000      42.000000   \n",
       "\n",
       "              gust  peak_wind_drct  \n",
       "count  1203.000000             0.0  \n",
       "mean     30.962594             NaN  \n",
       "std       6.319510             NaN  \n",
       "min      13.000000             NaN  \n",
       "25%      27.000000             NaN  \n",
       "50%      31.000000             NaN  \n",
       "75%      35.000000             NaN  \n",
       "max      56.000000             NaN  "
      ]
     },
     "execution_count": 4,
     "metadata": {},
     "output_type": "execute_result"
    }
   ],
   "source": [
    "dataset.describe()"
   ]
  },
  {
   "cell_type": "code",
   "execution_count": 5,
   "metadata": {},
   "outputs": [
    {
     "name": "stdout",
     "output_type": "stream",
     "text": [
      "<class 'pandas.core.frame.DataFrame'>\n",
      "RangeIndex: 103713 entries, 0 to 103712\n",
      "Data columns (total 8 columns):\n",
      " #   Column          Non-Null Count   Dtype  \n",
      "---  ------          --------------   -----  \n",
      " 0    station        103713 non-null  object \n",
      " 1   valid           103713 non-null  object \n",
      " 2   tmpc            103678 non-null  float64\n",
      " 3   dwpc            103678 non-null  float64\n",
      " 4   relh            103593 non-null  float64\n",
      " 5   sknt            103704 non-null  float64\n",
      " 6   gust            1203 non-null    float64\n",
      " 7   peak_wind_drct  0 non-null       float64\n",
      "dtypes: float64(6), object(2)\n",
      "memory usage: 6.3+ MB\n"
     ]
    }
   ],
   "source": [
    "dataset.info()"
   ]
  },
  {
   "cell_type": "code",
   "execution_count": 6,
   "metadata": {},
   "outputs": [
    {
     "name": "stdout",
     "output_type": "stream",
     "text": [
      "Column tmpc\n",
      "\tAverage: 15.81150292251008\n",
      "\tStandard Deviation: 4.235196864334063\n",
      "\t10th and 90th percentile range: 10.0\n",
      "\t25th and 75th percentile range: 6.0\n",
      "Column dwpc\n",
      "\tAverage: 12.115771909180348\n",
      "\tStandard Deviation: 3.7380046159633107\n",
      "\t10th and 90th percentile range: 10.0\n",
      "\t25th and 75th percentile range: 6.0\n",
      "Column relh\n",
      "\tAverage: 79.78230729877448\n",
      "\tStandard Deviation: 12.562199242948282\n",
      "\t10th and 90th percentile range: 31.14\n",
      "\t25th and 75th percentile range: 16.730000000000004\n",
      "Column sknt\n",
      "\tAverage: 8.919029159916686\n",
      "\tStandard Deviation: 5.34837935634243\n",
      "\t10th and 90th percentile range: 13.0\n",
      "\t25th and 75th percentile range: 7.0\n",
      "Column gust\n",
      "\tAverage: 30.962593516209477\n",
      "\tStandard Deviation: 6.319509758218397\n",
      "\t10th and 90th percentile range: 15.0\n",
      "\t25th and 75th percentile range: 8.0\n"
     ]
    }
   ],
   "source": [
    "for name in dataset.columns[2:-1]:\n",
    "    print(f\"Column {name}\")\n",
    "    print(f\"\\tAverage: {dataset[name].mean()}\")\n",
    "    print(f\"\\tStandard Deviation: {dataset[name].std()}\")\n",
    "    print(f\"\\t10th and 90th percentile range: {dataset[name].quantile(q=0.9) - dataset[name].quantile(q=0.1)}\")\n",
    "    print(f\"\\t25th and 75th percentile range: {dataset[name].quantile(q=0.75) - dataset[name].quantile(q=0.25)}\")"
   ]
  },
  {
   "cell_type": "code",
   "execution_count": 7,
   "metadata": {},
   "outputs": [
    {
     "data": {
      "text/plain": [
       "<AxesSubplot:>"
      ]
     },
     "execution_count": 7,
     "metadata": {},
     "output_type": "execute_result"
    },
    {
     "data": {
      "image/png": "[encoded data removed]",
      "text/plain": [
       "<Figure size 432x288 with 2 Axes>"
      ]
     },
     "metadata": {
      "needs_background": "light"
     },
     "output_type": "display_data"
    }
   ],
   "source": [
    "sns.heatmap(dataset.corr(), annot=True, square=True)"
   ]
  },
  {
   "cell_type": "code",
   "execution_count": 8,
   "metadata": {},
   "outputs": [
    {
     "name": "stderr",
     "output_type": "stream",
     "text": [
      "/var/folders/36/slw7j0hd47q8_r89sl14vw1m0000gn/T/ipykernel_61093/2563224046.py:31: UserWarning: Matplotlib is currently using module://matplotlib_inline.backend_inline, which is a non-GUI backend, so cannot show the figure.\n",
      "  fig.show()\n"
     ]
    }
   ],
   "source": [
    "plt.style.use(\"bmh\")\n",
    "fig, (ax1, ax2, ax3, ax4, ax5) = plt.subplots(nrows=5, ncols=1, squeeze=True)\n",
    "\n",
    "ax1.plot(dataset[\"valid\"], dataset[\"tmpc\"], color=\"blue\")\n",
    "ax1.set_title(\"tmpc Graph\")\n",
    "ax1.set_xlabel(\"valid\")\n",
    "ax1.set_ylabel(\"tmpc\")\n",
    "\n",
    "ax2.plot(dataset[\"valid\"], dataset[\"dwpc\"], color=\"red\")\n",
    "ax2.set_title(\"dwpc Graph\")\n",
    "ax2.set_xlabel(\"valid\")\n",
    "ax2.set_ylabel(\"dwpc\")\n",
    "\n",
    "ax3.plot(dataset[\"valid\"], dataset[\"relh\"], color=\"green\")\n",
    "ax3.set_title(\"relh Graph\")\n",
    "ax3.set_xlabel(\"valid\")\n",
    "ax3.set_ylabel(\"relh\")\n",
    "\n",
    "ax4.plot(dataset[\"valid\"], dataset[\"sknt\"], color=\"orange\")\n",
    "ax4.set_title(\"sknt Graph\")\n",
    "ax4.set_xlabel(\"valid\")\n",
    "ax4.set_ylabel(\"sknt\")\n",
    "\n",
    "ax5.plot(dataset[\"valid\"], dataset[\"gust\"], color=\"black\")\n",
    "ax5.set_title(\"gust Graph\")\n",
    "ax5.set_xlabel(\"valid\")\n",
    "ax5.set_ylabel(\"gust\")\n",
    "\n",
    "fig.set_size_inches(10,25)\n",
    "\n",
    "fig.show()"
   ]
  },
  {
   "cell_type": "code",
   "execution_count": null,
   "metadata": {},
   "outputs": [],
   "source": [
    "dataset[\" station\"].value_counts()"
   ]
  },
  {
   "cell_type": "markdown",
   "metadata": {},
   "source": [
    "### Reflection\n",
    "\n",
    "Columns of gust and peak_wind_drct do not have enough values, and they have been removed.  Temperature of the environment in celsius and temperature of the dew point in the environment in celsius are correlated with 80 percent confidence."
   ]
  },
  {
   "cell_type": "markdown",
   "metadata": {},
   "source": [
    "# Data Processing"
   ]
  },
  {
   "cell_type": "code",
   "execution_count": null,
   "metadata": {},
   "outputs": [],
   "source": [
    "# An exhaustive list of what you can do with Pandas dataframe is in this link: https://pandas.pydata.org/docs/reference/frame.html\n",
    "dataset = pd.read_csv(\"weather-data.csv\")\n",
    "dataset.drop(columns=[\" station\", \"peak_wind_drct\", \"gust\"], inplace=True)\n",
    "dataset = dataset.dropna(axis=0, how=\"any\")\n",
    "dataset.head()"
   ]
  },
  {
   "cell_type": "code",
   "execution_count": null,
   "metadata": {},
   "outputs": [],
   "source": [
    "import time\n",
    "import datetime\n",
    "def timeStrToTimestamp(timeStr):\n",
    "    return time.mktime(datetime.datetime.strptime(timeStr, \"%Y-%m-%d %H:%M\").timetuple())"
   ]
  },
  {
   "cell_type": "markdown",
   "metadata": {},
   "source": [
    "# Data Modelling"
   ]
  },
  {
   "cell_type": "code",
   "execution_count": null,
   "metadata": {},
   "outputs": [],
   "source": [
    "# An exhaustive list of models can be found in sci-kit learn in this link: https://scikit-learn.org/stable/supervised_learning.html\n",
    "# The url takes you to supervised learning which is what you will be dealing with for this phase."
   ]
  },
  {
   "cell_type": "markdown",
   "metadata": {},
   "source": [
    "# Conclusion\n",
    "\n",
    "* Comment on your model performance.\n",
    "* Anything interesting about the data analysis."
   ]
  }
 ],
 "metadata": {
  "interpreter": {
   "hash": "40d3a090f54c6569ab1632332b64b2c03c39dcf918b08424e98f38b5ae0af88f"
  },
  "kernelspec": {
   "display_name": "Python 3.8.8 ('base')",
   "language": "python",
   "name": "python3"
  },
  "language_info": {
   "codemirror_mode": {
    "name": "ipython",
    "version": 3
   },
   "file_extension": ".py",
   "mimetype": "text/x-python",
   "name": "python",
   "nbconvert_exporter": "python",
   "pygments_lexer": "ipython3",
   "version": "3.8.8"
  },
  "orig_nbformat": 4,
  "vscode": {
   "interpreter": {
    "hash": "c1a2242e7081b4f0929018da2a8cc567af1f3cf95e7af08c98cfb4addbb6241a"
   }
  }
 },
 "nbformat": 4,
 "nbformat_minor": 2
}
